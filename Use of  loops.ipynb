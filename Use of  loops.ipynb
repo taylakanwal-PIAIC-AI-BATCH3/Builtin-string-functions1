{
 "cells": [
  {
   "cell_type": "markdown",
   "metadata": {},
   "source": [
    "# if statements"
   ]
  },
  {
   "cell_type": "code",
   "execution_count": 1,
   "metadata": {},
   "outputs": [
    {
     "name": "stdout",
     "output_type": "stream",
     "text": [
      "b is greater than a\n",
      "hello a\n",
      "hello python\n"
     ]
    }
   ],
   "source": [
    "a = 30\n",
    "b = 45\n",
    "if b>a:\n",
    "    print(\"b is greater than a\")\n",
    "    print(\"hello a\")\n",
    "print(\"hello python\")"
   ]
  },
  {
   "cell_type": "code",
   "execution_count": 23,
   "metadata": {},
   "outputs": [
    {
     "name": "stdout",
     "output_type": "stream",
     "text": [
      "nice\n"
     ]
    }
   ],
   "source": [
    "if a>b:\n",
    "    print(\"false\")\n",
    "    if b==45:\n",
    "        print(\"true\")\n",
    "    elif  b == 45:\n",
    "            a = 30\n",
    "            print(\"a is less than b\")\n",
    "            print(\"good\")\n",
    "else:\n",
    "    print(\"nice\")   "
   ]
  },
  {
   "cell_type": "code",
   "execution_count": 3,
   "metadata": {},
   "outputs": [
    {
     "name": "stdout",
     "output_type": "stream",
     "text": [
      "good\n",
      "great\n"
     ]
    }
   ],
   "source": [
    "c = 4\n",
    "d = 5\n",
    "sum = c+d\n",
    "if sum == 9:\n",
    "    print(\"good\")\n",
    "    if d*c==20:\n",
    "        print(\"great\")\n",
    "    elif  c == 5:\n",
    "        print(\"wrong\")\n",
    "else:\n",
    "    print(\"welldone\")"
   ]
  },
  {
   "cell_type": "markdown",
   "metadata": {},
   "source": [
    "# LOOPS"
   ]
  },
  {
   "cell_type": "markdown",
   "metadata": {},
   "source": [
    "# use of  while loop"
   ]
  },
  {
   "cell_type": "markdown",
   "metadata": {},
   "source": [
    "# basic parts of a loop"
   ]
  },
  {
   "cell_type": "code",
   "execution_count": 1,
   "metadata": {},
   "outputs": [],
   "source": [
    "# counter - a variable used to conrol loop\n",
    "# logic - basic condition on which loop runs\n",
    "# increment/decrement  -to specify  step value"
   ]
  },
  {
   "cell_type": "code",
   "execution_count": 2,
   "metadata": {},
   "outputs": [
    {
     "name": "stdout",
     "output_type": "stream",
     "text": [
      "40\n",
      "35\n",
      "30\n",
      "25\n",
      "20\n",
      "15\n",
      "10\n",
      "5\n"
     ]
    }
   ],
   "source": [
    "counter = 40\n",
    "while counter >=5:\n",
    "    print(counter)\n",
    "    counter-=5"
   ]
  },
  {
   "cell_type": "code",
   "execution_count": 1,
   "metadata": {},
   "outputs": [
    {
     "name": "stdout",
     "output_type": "stream",
     "text": [
      "1\n"
     ]
    }
   ],
   "source": [
    "print(1)"
   ]
  },
  {
   "cell_type": "code",
   "execution_count": 2,
   "metadata": {},
   "outputs": [
    {
     "name": "stdout",
     "output_type": "stream",
     "text": [
      "Islamabad 1\n",
      "Islamabad 2\n",
      "Islamabad 3\n",
      "Islamabad 4\n",
      "Islamabad 5\n",
      "Islamabad 6\n",
      "Islamabad 7\n",
      "Islamabad 8\n",
      "Islamabad 9\n",
      "Islamabad 10\n"
     ]
    }
   ],
   "source": [
    "i =1\n",
    "for i in range (1,11):\n",
    "    print(\"Islamabad\",i)"
   ]
  },
  {
   "cell_type": "code",
   "execution_count": 4,
   "metadata": {},
   "outputs": [
    {
     "name": "stdout",
     "output_type": "stream",
     "text": [
      "50\n",
      "48\n",
      "46\n",
      "44\n",
      "42\n",
      "40\n"
     ]
    }
   ],
   "source": [
    "for n in range (50,39,-2):\n",
    "    print(n)"
   ]
  },
  {
   "cell_type": "code",
   "execution_count": 7,
   "metadata": {
    "collapsed": true
   },
   "outputs": [
    {
     "name": "stdout",
     "output_type": "stream",
     "text": [
      "3 X 1 = 3\n",
      "3 X 2 = 6\n",
      "3 X 3 = 9\n",
      "3 X 4 = 12\n",
      "3 X 5 = 15\n",
      "3 X 6 = 18\n",
      "3 X 7 = 21\n",
      "3 X 8 = 24\n",
      "3 X 9 = 27\n",
      "3 X 10 = 30\n"
     ]
    }
   ],
   "source": [
    "for i in range (1,11):     # concatenation by typecasting to string  \n",
    "    print(\"3 X \" +  str(i) +  \" = \" +  str(i*3))"
   ]
  },
  {
   "cell_type": "code",
   "execution_count": 19,
   "metadata": {},
   "outputs": [
    {
     "name": "stdout",
     "output_type": "stream",
     "text": [
      "3  5  6  7  9  10  12  14  15  18  20  21  24  25  27  28  30  33  35  36  39  40  42  45  48  49  50  51  54  55  56  57  60  63  65  66  69  70  72  75  77  78  80  81  84  85  87  90  91  93  95  96  98  99  100  102  105  108  110  111  112  114  115  117  119  120  123  125  126  129  130  132  133  135  138  140  141  144  145  147  150  153  154  155  156  159  160  161  162  165  168  170  171  174  175  177  180  182  183  185  186  189  190  192  195  196  198  200  201  203  204  205  207  210  213  215  216  217  219  220  222  224  225  228  230  231  234  235  237  238  240  243  245  246  249  250  252  255  258  259  260  261  264  265  266  267  270  273  275  276  279  280  282  285  287  288  290  291  294  295  297  300  301  303  305  306  308  309  310  312  315  318  320  321  322  324  325  327  329  330  333  335  336  339  340  342  343  345  348  350  351  354  355  357  360  363  364  365  366  369  370  371  372  375  378  380  381  384  385  387  390  392  393  395  396  399  400  402  405  406  408  410  411  413  414  415  417  420  423  425  426  427  429  430  432  434  435  438  440  441  444  445  447  448  450  453  455  456  459  460  462  465  468  469  470  471  474  475  476  477  480  483  485  486  489  490  492  495  497  498  500  501  504  505  507  510  511  513  515  516  518  519  520  522  525  528  530  531  532  534  535  537  539  540  543  545  546  549  550  552  553  555  558  560  561  564  565  567  570  573  574  575  576  579  580  581  582  585  588  590  591  594  595  597  600  602  603  605  606  609  610  612  615  616  618  620  621  623  624  625  627  630  633  635  636  637  639  640  642  644  645  648  650  651  654  655  657  658  660  663  665  666  669  670  672  675  678  679  680  681  684  685  686  687  690  693  695  696  699  700  702  705  707  708  710  711  714  715  717  720  721  723  725  726  728  729  730  732  735  738  740  741  742  744  745  747  749  750  753  755  756  759  760  762  763  765  768  770  771  774  775  777  780  783  784  785  786  789  790  791  792  795  798  800  801  804  805  807  810  812  813  815  816  819  820  822  825  826  828  830  831  833  834  835  837  840  843  845  846  847  849  850  852  854  855  858  860  861  864  865  867  868  870  873  875  876  879  880  882  885  888  889  890  891  894  895  896  897  900  903  905  906  909  910  912  915  917  918  920  921  924  925  927  930  931  933  935  936  938  939  940  942  945  948  950  951  952  954  955  957  959  960  963  965  966  969  970  972  973  975  978  980  981  984  985  987  990  993  994  995  996  999  1000  "
     ]
    }
   ],
   "source": [
    "# to print numbers divisible by 3,5,7,10 in range 1-1000\n",
    "for i in range (1,1001):\n",
    "    if (i%3 == 0) or (i%5 == 0) or (i%7 == 0):\n",
    "        print(i,end='  ')"
   ]
  },
  {
   "cell_type": "code",
   "execution_count": 20,
   "metadata": {},
   "outputs": [
    {
     "name": "stdout",
     "output_type": "stream",
     "text": [
      "A  a  0\n",
      "B  b  1\n",
      "C  c  2\n",
      "D  d  3\n",
      "E  e  4\n",
      "F  f  5\n",
      "G  g  6\n",
      "H  h  7\n",
      "I  i  8\n",
      "J  j  9\n",
      "K  k  :\n",
      "L  l  ;\n",
      "M  m  <\n",
      "N  n  =\n",
      "O  o  >\n",
      "P  p  ?\n",
      "Q  q  @\n",
      "R  r  A\n",
      "S  s  B\n",
      "T  t  C\n",
      "U  u  D\n",
      "V  v  E\n",
      "W  w  F\n",
      "X  x  G\n",
      "Y  y  H\n",
      "Z  z  I\n"
     ]
    }
   ],
   "source": [
    "#    ascii codes of following ascii code   97-122 and display in format as   A  a  0\n",
    "#   B  b  1\n",
    "for i in range (65,91,1):\n",
    "    print(chr(i),\"\", chr(i+32),\"\", chr(i-17))"
   ]
  },
  {
   "cell_type": "code",
   "execution_count": 1,
   "metadata": {},
   "outputs": [
    {
     "name": "stdout",
     "output_type": "stream",
     "text": [
      "1\n",
      "4\n",
      "7\n",
      "10\n",
      "13\n",
      "16\n",
      "19\n"
     ]
    }
   ],
   "source": [
    "for i in range (1,21,3):\n",
    "    print(i)"
   ]
  },
  {
   "cell_type": "code",
   "execution_count": 3,
   "metadata": {},
   "outputs": [
    {
     "name": "stdout",
     "output_type": "stream",
     "text": [
      "(0, 1, 5)(0, 2, 0)\n",
      "(1, 2, 10)\n",
      "(2, 0, 20)(2, 1, 30)\n",
      "(3, 0, 35)(3, 2, 20)\n"
     ]
    }
   ],
   "source": [
    "#  perform a task that if elements of a matrix are divisible  by 5 then return row and column number.\n",
    "l = [[2,5,0],\\\n",
    "     [8,9,10],\\\n",
    "     [20,30,27], \\\n",
    "     [35,9,20]]\n",
    "#   enumerate is used to get lac\n",
    "for ri,r in enumerate(l):\n",
    "    for ci,c in enumerate(r):\n",
    "        if c%5 == 0:\n",
    "            print((ri,ci,c), end = \"\")\n",
    "    print()        "
   ]
  },
  {
   "cell_type": "code",
   "execution_count": 4,
   "metadata": {},
   "outputs": [
    {
     "data": {
      "text/plain": [
       "['5 X 1 = 5',\n",
       " '5 X 2 = 10',\n",
       " '5 X 3 = 15',\n",
       " '5 X 4 = 20',\n",
       " '5 X 5 = 25',\n",
       " '5 X 6 = 30',\n",
       " '5 X 7 = 35',\n",
       " '5 X 8 = 40',\n",
       " '5 X 9 = 45',\n",
       " '5 X 10 = 50']"
      ]
     },
     "execution_count": 4,
     "metadata": {},
     "output_type": "execute_result"
    }
   ],
   "source": [
    "[\"5 X \" + str(i) + \" = \" + str(5*i) for i  in range (1,11)]   # list in comprehensive style"
   ]
  },
  {
   "cell_type": "markdown",
   "metadata": {},
   "source": [
    "# Running loops using USER INPUT"
   ]
  },
  {
   "cell_type": "code",
   "execution_count": 1,
   "metadata": {},
   "outputs": [
    {
     "name": "stdout",
     "output_type": "stream",
     "text": [
      "Name: Alina\n",
      "Father Name: Muhammed Ali\n",
      "Number: 12345\n",
      "continue?y\n",
      "['Alina']\n",
      "['Muhammed Ali']\n",
      "['12345']\n",
      "Name: Sana\n",
      "Father Name: M.Ahmed\n",
      "Number: 23456\n",
      "continue?y\n",
      "['Alina', 'Sana']\n",
      "['Muhammed Ali', 'M.Ahmed']\n",
      "['12345', '23456']\n",
      "Name: Mariam\n",
      "Father Name: Saad Khan\n",
      "Number: 34567\n",
      "continue?n\n",
      "['Alina', 'Sana', 'Mariam']\n",
      "['Muhammed Ali', 'M.Ahmed', 'Saad Khan']\n",
      "['12345', '23456', '34567']\n"
     ]
    }
   ],
   "source": [
    "###### Taking multiple user inputs about name,fathername,contact number and continue adding data to the list\n",
    "# as long as they want to continue.\n",
    "name = []\n",
    "dadname = []\n",
    "number = []\n",
    "more = \"y\"\n",
    "while more == \"y\":\n",
    "    name1 = input(\"Name: \")\n",
    "    dadname1 = input(\"Father Name: \")\n",
    "    number1 = input(\"Number: \")\n",
    "    name.append(name1)\n",
    "    dadname.append(dadname1)\n",
    "    number.append(number1)\n",
    "    more = input(\"continue?\")\n",
    "    print(name)\n",
    "    print(dadname)\n",
    "    print(number)"
   ]
  },
  {
   "cell_type": "markdown",
   "metadata": {},
   "source": [
    "# Nested loops"
   ]
  },
  {
   "cell_type": "markdown",
   "metadata": {},
   "source": [
    "# printing tables horizontally"
   ]
  },
  {
   "cell_type": "code",
   "execution_count": 2,
   "metadata": {},
   "outputs": [
    {
     "name": "stdout",
     "output_type": "stream",
     "text": [
      "Enter the number to print Tables:4\n",
      "4 X 1 = 4\n",
      "4 X 2 = 8\n",
      "4 X 3 = 12\n",
      "4 X 4 = 16\n",
      "4 X 5 = 20\n",
      "4 X 6 = 24\n",
      "4 X 7 = 28\n",
      "4 X 8 = 32\n",
      "4 X 9 = 36\n",
      "4 X 10 = 40\n"
     ]
    }
   ],
   "source": [
    "t = input(\"Enter the number to print Tables:\")\n",
    "t = int(t)    # typecasting the user input bcz user input is string by default\n",
    "for i in range (1,11):\n",
    "    print(str(t )+\" X \"+ str(i)+ \" = \"+ str(i*t))"
   ]
  },
  {
   "cell_type": "code",
   "execution_count": 10,
   "metadata": {},
   "outputs": [
    {
     "name": "stdout",
     "output_type": "stream",
     "text": [
      "Enter the number to print tables: 5\n",
      "1X 1 = 1\t\t2X 1 = 2\t\t3X 1 = 3\t\t4X 1 = 4\t\t5X 1 = 5\t\t\n",
      "1X 2 = 2\t\t2X 2 = 4\t\t3X 2 = 6\t\t4X 2 = 8\t\t5X 2 = 10\t\t\n",
      "1X 3 = 3\t\t2X 3 = 6\t\t3X 3 = 9\t\t4X 3 = 12\t\t5X 3 = 15\t\t\n",
      "1X 4 = 4\t\t2X 4 = 8\t\t3X 4 = 12\t\t4X 4 = 16\t\t5X 4 = 20\t\t\n",
      "1X 5 = 5\t\t2X 5 = 10\t\t3X 5 = 15\t\t4X 5 = 20\t\t5X 5 = 25\t\t\n",
      "1X 6 = 6\t\t2X 6 = 12\t\t3X 6 = 18\t\t4X 6 = 24\t\t5X 6 = 30\t\t\n",
      "1X 7 = 7\t\t2X 7 = 14\t\t3X 7 = 21\t\t4X 7 = 28\t\t5X 7 = 35\t\t\n",
      "1X 8 = 8\t\t2X 8 = 16\t\t3X 8 = 24\t\t4X 8 = 32\t\t5X 8 = 40\t\t\n",
      "1X 9 = 9\t\t2X 9 = 18\t\t3X 9 = 27\t\t4X 9 = 36\t\t5X 9 = 45\t\t\n",
      "1X 10 = 10\t\t2X 10 = 20\t\t3X 10 = 30\t\t4X 10 = 40\t\t5X 10 = 50\t\t\n"
     ]
    }
   ],
   "source": [
    "t = input(\"Enter the number to print tables: \")\n",
    "t = int(t)\n",
    "for i in range (1,11):\n",
    "    for k in range (1,t+1):   # this is inner loop  and then end='\\t' makes the next tab\n",
    "        print(str(k )+ \"X \"+ str(i )+ \" = \"+ str(i*k),end='\\t\\t')\n",
    "    print()    "
   ]
  },
  {
   "cell_type": "code",
   "execution_count": 9,
   "metadata": {},
   "outputs": [
    {
     "name": "stdout",
     "output_type": "stream",
     "text": [
      "Enter the number to print tables: 6\n",
      "1X 1= 1\n",
      "1X 2= 2\n",
      "1X 3= 3\n",
      "1X 4= 4\n",
      "1X 5= 5\n",
      "1X 6= 6\n",
      "1X 7= 7\n",
      "1X 8= 8\n",
      "1X 9= 9\n",
      "1X 10= 10\n",
      "\n",
      "2X 1= 2\n",
      "2X 2= 4\n",
      "2X 3= 6\n",
      "2X 4= 8\n",
      "2X 5= 10\n",
      "2X 6= 12\n",
      "2X 7= 14\n",
      "2X 8= 16\n",
      "2X 9= 18\n",
      "2X 10= 20\n",
      "\n",
      "3X 1= 3\n",
      "3X 2= 6\n",
      "3X 3= 9\n",
      "3X 4= 12\n",
      "3X 5= 15\n",
      "3X 6= 18\n",
      "3X 7= 21\n",
      "3X 8= 24\n",
      "3X 9= 27\n",
      "3X 10= 30\n",
      "\n",
      "4X 1= 4\n",
      "4X 2= 8\n",
      "4X 3= 12\n",
      "4X 4= 16\n",
      "4X 5= 20\n",
      "4X 6= 24\n",
      "4X 7= 28\n",
      "4X 8= 32\n",
      "4X 9= 36\n",
      "4X 10= 40\n",
      "\n",
      "5X 1= 5\n",
      "5X 2= 10\n",
      "5X 3= 15\n",
      "5X 4= 20\n",
      "5X 5= 25\n",
      "5X 6= 30\n",
      "5X 7= 35\n",
      "5X 8= 40\n",
      "5X 9= 45\n",
      "5X 10= 50\n",
      "\n",
      "6X 1= 6\n",
      "6X 2= 12\n",
      "6X 3= 18\n",
      "6X 4= 24\n",
      "6X 5= 30\n",
      "6X 6= 36\n",
      "6X 7= 42\n",
      "6X 8= 48\n",
      "6X 9= 54\n",
      "6X 10= 60\n",
      "\n"
     ]
    }
   ],
   "source": [
    "t = input(\"Enter the number to print tables: \")\n",
    "t = int(t)\n",
    "for k in range (1,t+1):\n",
    "    for i in range (1,11):   # this is inner loop  and then end='\\t' makes the next tab\n",
    "        print(str(k )+ \"X \"+ str(i )+ \"= \"+ str(i*k))\n",
    "    print()    "
   ]
  },
  {
   "cell_type": "code",
   "execution_count": null,
   "metadata": {},
   "outputs": [],
   "source": []
  }
 ],
 "metadata": {
  "kernelspec": {
   "display_name": "Python 3",
   "language": "python",
   "name": "python3"
  },
  "language_info": {
   "codemirror_mode": {
    "name": "ipython",
    "version": 3
   },
   "file_extension": ".py",
   "mimetype": "text/x-python",
   "name": "python",
   "nbconvert_exporter": "python",
   "pygments_lexer": "ipython3",
   "version": "3.7.4"
  }
 },
 "nbformat": 4,
 "nbformat_minor": 2
}
